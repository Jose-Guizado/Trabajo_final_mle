{
 "cells": [
  {
   "cell_type": "markdown",
   "id": "de15f4aa",
   "metadata": {},
   "source": [
    "# Trabajo Final"
   ]
  },
  {
   "cell_type": "markdown",
   "id": "8f628bc5",
   "metadata": {},
   "source": [
    "## Instalacion de librerias"
   ]
  },
  {
   "cell_type": "code",
   "execution_count": 44,
   "id": "a4eb144c",
   "metadata": {},
   "outputs": [],
   "source": [
    "# Import necessary libs\n",
    "\n",
    "import pandas as pd\n",
    "import numpy as np\n",
    "\n",
    "import warnings\n",
    "warnings.filterwarnings('ignore')\n",
    "from scipy import stats\n",
    "\n",
    "# visualization\n",
    "import seaborn as sns\n",
    "import matplotlib.pyplot as plt\n",
    "\n",
    "\n",
    "# para componentes principales\n",
    "from sklearn.preprocessing import StandardScaler\n",
    "\n",
    "# Para un modelo\n",
    "from sklearn.model_selection import train_test_split\n",
    "from sklearn.model_selection import StratifiedShuffleSplit\n",
    "from sklearn.linear_model import LogisticRegression\n",
    "from sklearn.ensemble import RandomForestClassifier\n",
    "\n",
    "\n",
    "## Métricas de los modelos\n",
    "from sklearn.metrics import confusion_matrix\n",
    "from sklearn.metrics import auc\n",
    "from sklearn.metrics import accuracy_score\n",
    "from sklearn.metrics import precision_score\n",
    "from sklearn.metrics import recall_score\n",
    "from sklearn.metrics import roc_auc_score\n",
    "\n",
    "\n",
    "# Crea una semilla cualesquiera\n",
    "seed = 2022\n",
    "np.random.seed(seed)"
   ]
  },
  {
   "cell_type": "code",
   "execution_count": 45,
   "id": "2644325e",
   "metadata": {},
   "outputs": [],
   "source": [
    "## data \n",
    "dataset = pd.read_excel('D:/Jose Guizado/Advance Data Science\\Metodo Supervisado/Data/DataInferenciaIngresos.xlsx',header=0)"
   ]
  },
  {
   "cell_type": "code",
   "execution_count": 46,
   "id": "f74ab74e",
   "metadata": {},
   "outputs": [
    {
     "data": {
      "text/html": [
       "<div>\n",
       "<style scoped>\n",
       "    .dataframe tbody tr th:only-of-type {\n",
       "        vertical-align: middle;\n",
       "    }\n",
       "\n",
       "    .dataframe tbody tr th {\n",
       "        vertical-align: top;\n",
       "    }\n",
       "\n",
       "    .dataframe thead th {\n",
       "        text-align: right;\n",
       "    }\n",
       "</style>\n",
       "<table border=\"1\" class=\"dataframe\">\n",
       "  <thead>\n",
       "    <tr style=\"text-align: right;\">\n",
       "      <th></th>\n",
       "      <th>edad</th>\n",
       "      <th>AniosDireccion</th>\n",
       "      <th>Gastocoche</th>\n",
       "      <th>Aniosempleo</th>\n",
       "      <th>Aniosresiden</th>\n",
       "      <th>ingres</th>\n",
       "    </tr>\n",
       "  </thead>\n",
       "  <tbody>\n",
       "    <tr>\n",
       "      <th>0</th>\n",
       "      <td>55</td>\n",
       "      <td>12</td>\n",
       "      <td>36.2</td>\n",
       "      <td>23</td>\n",
       "      <td>4</td>\n",
       "      <td>72</td>\n",
       "    </tr>\n",
       "    <tr>\n",
       "      <th>1</th>\n",
       "      <td>56</td>\n",
       "      <td>29</td>\n",
       "      <td>76.9</td>\n",
       "      <td>35</td>\n",
       "      <td>1</td>\n",
       "      <td>153</td>\n",
       "    </tr>\n",
       "    <tr>\n",
       "      <th>2</th>\n",
       "      <td>28</td>\n",
       "      <td>9</td>\n",
       "      <td>13.7</td>\n",
       "      <td>4</td>\n",
       "      <td>3</td>\n",
       "      <td>28</td>\n",
       "    </tr>\n",
       "    <tr>\n",
       "      <th>3</th>\n",
       "      <td>24</td>\n",
       "      <td>4</td>\n",
       "      <td>12.5</td>\n",
       "      <td>0</td>\n",
       "      <td>3</td>\n",
       "      <td>26</td>\n",
       "    </tr>\n",
       "    <tr>\n",
       "      <th>4</th>\n",
       "      <td>25</td>\n",
       "      <td>2</td>\n",
       "      <td>11.3</td>\n",
       "      <td>5</td>\n",
       "      <td>2</td>\n",
       "      <td>23</td>\n",
       "    </tr>\n",
       "    <tr>\n",
       "      <th>...</th>\n",
       "      <td>...</td>\n",
       "      <td>...</td>\n",
       "      <td>...</td>\n",
       "      <td>...</td>\n",
       "      <td>...</td>\n",
       "      <td>...</td>\n",
       "    </tr>\n",
       "    <tr>\n",
       "      <th>6395</th>\n",
       "      <td>23</td>\n",
       "      <td>1</td>\n",
       "      <td>7.4</td>\n",
       "      <td>0</td>\n",
       "      <td>1</td>\n",
       "      <td>15</td>\n",
       "    </tr>\n",
       "    <tr>\n",
       "      <th>6396</th>\n",
       "      <td>52</td>\n",
       "      <td>8</td>\n",
       "      <td>12.7</td>\n",
       "      <td>2</td>\n",
       "      <td>1</td>\n",
       "      <td>25</td>\n",
       "    </tr>\n",
       "    <tr>\n",
       "      <th>6397</th>\n",
       "      <td>42</td>\n",
       "      <td>20</td>\n",
       "      <td>29.4</td>\n",
       "      <td>16</td>\n",
       "      <td>1</td>\n",
       "      <td>59</td>\n",
       "    </tr>\n",
       "    <tr>\n",
       "      <th>6398</th>\n",
       "      <td>51</td>\n",
       "      <td>17</td>\n",
       "      <td>62.5</td>\n",
       "      <td>26</td>\n",
       "      <td>1</td>\n",
       "      <td>123</td>\n",
       "    </tr>\n",
       "    <tr>\n",
       "      <th>6399</th>\n",
       "      <td>28</td>\n",
       "      <td>3</td>\n",
       "      <td>11.1</td>\n",
       "      <td>2</td>\n",
       "      <td>1</td>\n",
       "      <td>22</td>\n",
       "    </tr>\n",
       "  </tbody>\n",
       "</table>\n",
       "<p>6400 rows × 6 columns</p>\n",
       "</div>"
      ],
      "text/plain": [
       "      edad  AniosDireccion  Gastocoche  Aniosempleo  Aniosresiden  ingres\n",
       "0       55              12        36.2           23             4      72\n",
       "1       56              29        76.9           35             1     153\n",
       "2       28               9        13.7            4             3      28\n",
       "3       24               4        12.5            0             3      26\n",
       "4       25               2        11.3            5             2      23\n",
       "...    ...             ...         ...          ...           ...     ...\n",
       "6395    23               1         7.4            0             1      15\n",
       "6396    52               8        12.7            2             1      25\n",
       "6397    42              20        29.4           16             1      59\n",
       "6398    51              17        62.5           26             1     123\n",
       "6399    28               3        11.1            2             1      22\n",
       "\n",
       "[6400 rows x 6 columns]"
      ]
     },
     "execution_count": 46,
     "metadata": {},
     "output_type": "execute_result"
    }
   ],
   "source": [
    "dataset"
   ]
  },
  {
   "cell_type": "markdown",
   "id": "486709d5",
   "metadata": {},
   "source": [
    "## 1.- Definir el problema y los objetivos de negocio bien definidos."
   ]
  },
  {
   "cell_type": "markdown",
   "id": "ba71294b",
   "metadata": {},
   "source": [
    "El problema de negocio es que las ofertas en las polizas no etan teniendo buenas aceptaciones. Lo cual llevó al analisis y revelo que las tasas a comparación de las ofertas a la competencia en unos casos eran muy superiores y en otras muy inferiores respecto a los principales competidores.\n",
    "\n",
    "Nos encontramos ante un problema que esta definido la variable repuesta (Método supervisado) la cual es del tipo númerico por ende lo ubicamos dentro de los problemas de Regresión."
   ]
  },
  {
   "cell_type": "markdown",
   "id": "f046a068",
   "metadata": {},
   "source": [
    "### Objetivos del Negocio\n",
    "\n",
    "1. El principal es entender si de una manera u otra la predicción correcta del ingreso de las personas está influyendo o determinando la aceptación de polizas de seguro.\n",
    "\n",
    "2. Es conveniente identificar la causa de las tasa de oferta en algunos casos es muy superio y en otros muy inferior respecto alosprinciples competidores.\n",
    "\n",
    "3. Si la predicción correcta del ingreso de las personas está influyendo, cuatificar construir un estimados de ingresos adecuado."
   ]
  },
  {
   "cell_type": "markdown",
   "id": "09589001",
   "metadata": {},
   "source": [
    "## 2.- ¿Qué tipo de variables se utilizan en el problema de negocio?"
   ]
  },
  {
   "cell_type": "code",
   "execution_count": 47,
   "id": "fe8be5d6",
   "metadata": {},
   "outputs": [
    {
     "name": "stdout",
     "output_type": "stream",
     "text": [
      "<class 'pandas.core.frame.DataFrame'>\n",
      "RangeIndex: 6400 entries, 0 to 6399\n",
      "Data columns (total 6 columns):\n",
      " #   Column          Non-Null Count  Dtype  \n",
      "---  ------          --------------  -----  \n",
      " 0   edad            6400 non-null   int64  \n",
      " 1   AniosDireccion  6400 non-null   int64  \n",
      " 2   Gastocoche      6400 non-null   float64\n",
      " 3   Aniosempleo     6400 non-null   int64  \n",
      " 4   Aniosresiden    6400 non-null   int64  \n",
      " 5   ingres          6400 non-null   int64  \n",
      "dtypes: float64(1), int64(5)\n",
      "memory usage: 300.1 KB\n"
     ]
    }
   ],
   "source": [
    "dataset.info()"
   ]
  },
  {
   "cell_type": "markdown",
   "id": "57cf3879",
   "metadata": {},
   "source": [
    "Las variables son numericas (int64 y float64)"
   ]
  },
  {
   "cell_type": "markdown",
   "id": "0ec3fda3",
   "metadata": {},
   "source": [
    "## 3.-  Hacer un resumen global del total de variables de estudio, principalmente a nivel univariado, entendiendo globalmente la problemática en la cual estoy inmerso."
   ]
  },
  {
   "cell_type": "code",
   "execution_count": 48,
   "id": "1e40897e",
   "metadata": {},
   "outputs": [
    {
     "name": "stdout",
     "output_type": "stream",
     "text": [
      "Number of instances in dataset = 6400\n",
      "Total number of columns = 6\n",
      "Colums wise count of null values:-\n",
      "edad              0\n",
      "AniosDireccion    0\n",
      "Gastocoche        0\n",
      "Aniosempleo       0\n",
      "Aniosresiden      0\n",
      "ingres            0\n",
      "dtype: int64\n"
     ]
    }
   ],
   "source": [
    "# Caracteristicas\n",
    "print(\"Number of instances in dataset = {}\".format(dataset.shape[0]))\n",
    "print(\"Total number of columns = {}\".format(dataset.columns.shape[0]))\n",
    "print(\"Colums wise count of null values:-\")\n",
    "print(dataset.isnull().sum())"
   ]
  },
  {
   "cell_type": "markdown",
   "id": "c4055844",
   "metadata": {},
   "source": [
    "No se presenta valores perdidos."
   ]
  },
  {
   "cell_type": "code",
   "execution_count": 49,
   "id": "4b60031f",
   "metadata": {},
   "outputs": [
    {
     "data": {
      "text/html": [
       "<div>\n",
       "<style scoped>\n",
       "    .dataframe tbody tr th:only-of-type {\n",
       "        vertical-align: middle;\n",
       "    }\n",
       "\n",
       "    .dataframe tbody tr th {\n",
       "        vertical-align: top;\n",
       "    }\n",
       "\n",
       "    .dataframe thead th {\n",
       "        text-align: right;\n",
       "    }\n",
       "</style>\n",
       "<table border=\"1\" class=\"dataframe\">\n",
       "  <thead>\n",
       "    <tr style=\"text-align: right;\">\n",
       "      <th></th>\n",
       "      <th>edad</th>\n",
       "      <th>AniosDireccion</th>\n",
       "      <th>Gastocoche</th>\n",
       "      <th>Aniosempleo</th>\n",
       "      <th>Aniosresiden</th>\n",
       "      <th>ingres</th>\n",
       "    </tr>\n",
       "  </thead>\n",
       "  <tbody>\n",
       "    <tr>\n",
       "      <th>count</th>\n",
       "      <td>6400.000000</td>\n",
       "      <td>6400.000000</td>\n",
       "      <td>6400.000000</td>\n",
       "      <td>6400.000000</td>\n",
       "      <td>6400.000000</td>\n",
       "      <td>6400.000000</td>\n",
       "    </tr>\n",
       "    <tr>\n",
       "      <th>mean</th>\n",
       "      <td>42.058594</td>\n",
       "      <td>11.559844</td>\n",
       "      <td>30.128375</td>\n",
       "      <td>10.566250</td>\n",
       "      <td>2.349687</td>\n",
       "      <td>69.474844</td>\n",
       "    </tr>\n",
       "    <tr>\n",
       "      <th>std</th>\n",
       "      <td>12.289516</td>\n",
       "      <td>9.938136</td>\n",
       "      <td>21.926917</td>\n",
       "      <td>9.724458</td>\n",
       "      <td>1.468287</td>\n",
       "      <td>78.718564</td>\n",
       "    </tr>\n",
       "    <tr>\n",
       "      <th>min</th>\n",
       "      <td>18.000000</td>\n",
       "      <td>0.000000</td>\n",
       "      <td>4.200000</td>\n",
       "      <td>0.000000</td>\n",
       "      <td>1.000000</td>\n",
       "      <td>9.000000</td>\n",
       "    </tr>\n",
       "    <tr>\n",
       "      <th>25%</th>\n",
       "      <td>33.000000</td>\n",
       "      <td>3.000000</td>\n",
       "      <td>13.900000</td>\n",
       "      <td>3.000000</td>\n",
       "      <td>1.000000</td>\n",
       "      <td>28.000000</td>\n",
       "    </tr>\n",
       "    <tr>\n",
       "      <th>50%</th>\n",
       "      <td>41.000000</td>\n",
       "      <td>9.000000</td>\n",
       "      <td>22.200000</td>\n",
       "      <td>8.000000</td>\n",
       "      <td>2.000000</td>\n",
       "      <td>45.000000</td>\n",
       "    </tr>\n",
       "    <tr>\n",
       "      <th>75%</th>\n",
       "      <td>51.000000</td>\n",
       "      <td>17.000000</td>\n",
       "      <td>39.500000</td>\n",
       "      <td>16.000000</td>\n",
       "      <td>3.000000</td>\n",
       "      <td>79.000000</td>\n",
       "    </tr>\n",
       "    <tr>\n",
       "      <th>max</th>\n",
       "      <td>77.000000</td>\n",
       "      <td>56.000000</td>\n",
       "      <td>99.900000</td>\n",
       "      <td>57.000000</td>\n",
       "      <td>9.000000</td>\n",
       "      <td>1116.000000</td>\n",
       "    </tr>\n",
       "  </tbody>\n",
       "</table>\n",
       "</div>"
      ],
      "text/plain": [
       "              edad  AniosDireccion   Gastocoche  Aniosempleo  Aniosresiden  \\\n",
       "count  6400.000000     6400.000000  6400.000000  6400.000000   6400.000000   \n",
       "mean     42.058594       11.559844    30.128375    10.566250      2.349687   \n",
       "std      12.289516        9.938136    21.926917     9.724458      1.468287   \n",
       "min      18.000000        0.000000     4.200000     0.000000      1.000000   \n",
       "25%      33.000000        3.000000    13.900000     3.000000      1.000000   \n",
       "50%      41.000000        9.000000    22.200000     8.000000      2.000000   \n",
       "75%      51.000000       17.000000    39.500000    16.000000      3.000000   \n",
       "max      77.000000       56.000000    99.900000    57.000000      9.000000   \n",
       "\n",
       "            ingres  \n",
       "count  6400.000000  \n",
       "mean     69.474844  \n",
       "std      78.718564  \n",
       "min       9.000000  \n",
       "25%      28.000000  \n",
       "50%      45.000000  \n",
       "75%      79.000000  \n",
       "max    1116.000000  "
      ]
     },
     "execution_count": 49,
     "metadata": {},
     "output_type": "execute_result"
    }
   ],
   "source": [
    "dataset.describe()"
   ]
  },
  {
   "cell_type": "code",
   "execution_count": 50,
   "id": "968ea46f",
   "metadata": {},
   "outputs": [
    {
     "data": {
      "image/png": "[encoded data removed]",
      "text/plain": [
       "<Figure size 1152x576 with 1 Axes>"
      ]
     },
     "metadata": {},
     "output_type": "display_data"
    }
   ],
   "source": [
    "# Histograma del Target\n",
    "#sns.set()\n",
    "plt.figure(figsize=(16,8))\n",
    "sns.distplot(dataset[\"ingres\"] , label=\"Ingreso\", color='green')\n",
    "plt.legend()\n",
    "plt.show()"
   ]
  },
  {
   "cell_type": "markdown",
   "id": "d59cb383",
   "metadata": {},
   "source": [
    "La variable respuesta \"Ingresos\" presenta una distribución asimetrica con cola a la derecha."
   ]
  },
  {
   "cell_type": "code",
   "execution_count": 51,
   "id": "bea383b4",
   "metadata": {},
   "outputs": [
    {
     "data": {
      "image/png": "[encoded data removed]",
      "text/plain": [
       "<Figure size 864x432 with 1 Axes>"
      ]
     },
     "metadata": {},
     "output_type": "display_data"
    }
   ],
   "source": [
    "# Grouped boxplot\n",
    "plt.figure(figsize=(12,6))\n",
    "sns.boxplot(x='ingres', data=dataset);"
   ]
  },
  {
   "cell_type": "markdown",
   "id": "54d4000d",
   "metadata": {},
   "source": [
    "Si a la variable respuesta la transformamos en este caso particular a log(ingresos)."
   ]
  },
  {
   "cell_type": "code",
   "execution_count": 52,
   "id": "27f81aa6",
   "metadata": {},
   "outputs": [
    {
     "data": {
      "image/png": "[encoded data removed]",
      "text/plain": [
       "<Figure size 1152x576 with 1 Axes>"
      ]
     },
     "metadata": {},
     "output_type": "display_data"
    }
   ],
   "source": [
    "dataset[\"log_ingreso\"] = pd.DataFrame(np.log(dataset[\"ingres\"]))\n",
    "# Histograma del Target\n",
    "#sns.set()\n",
    "plt.figure(figsize=(16,8))\n",
    "sns.distplot(dataset[\"log_ingreso\"] , label=\"log_Ingreso\", color='green')\n",
    "plt.legend()\n",
    "plt.show()"
   ]
  },
  {
   "cell_type": "code",
   "execution_count": 53,
   "id": "9aa75536",
   "metadata": {},
   "outputs": [
    {
     "data": {
      "image/png": "[encoded data removed]",
      "text/plain": [
       "<Figure size 864x432 with 1 Axes>"
      ]
     },
     "metadata": {},
     "output_type": "display_data"
    }
   ],
   "source": [
    "# Grouped boxplot\n",
    "plt.figure(figsize=(12,6))\n",
    "sns.boxplot(x='log_ingreso', data=dataset);"
   ]
  },
  {
   "cell_type": "code",
   "execution_count": 54,
   "id": "285a8b91",
   "metadata": {
    "scrolled": false
   },
   "outputs": [
    {
     "data": {
      "image/png": "[encoded data removed]",
      "text/plain": [
       "<Figure size 1080x1440 with 8 Axes>"
      ]
     },
     "metadata": {},
     "output_type": "display_data"
    }
   ],
   "source": [
    "# Distribuciones de variables numericas\n",
    "fig, axes = plt.subplots(nrows=4, ncols=2, figsize=(15, 20))\n",
    "axes = axes.flat\n",
    "columnas_object = dataset.select_dtypes(include=['float','int64']).columns\n",
    "\n",
    "for i, colum in enumerate(columnas_object):\n",
    "    dataset[colum].value_counts().plot.hist(ax = axes[i], bins=50)\n",
    "    axes[i].set_title(colum, fontsize = 12, fontweight = \"bold\")\n",
    "    axes[i].tick_params(labelsize = 4)\n",
    "    axes[i].set_xlabel(\"\")\n",
    "\n",
    "fig.tight_layout()\n",
    "plt.subplots_adjust(top=0.9)\n",
    "fig.suptitle('Distribución variables numericas',\n",
    "             fontsize = 18, fontweight = \"bold\");"
   ]
  },
  {
   "cell_type": "markdown",
   "id": "d502d6c1",
   "metadata": {},
   "source": [
    "La variable log_ingreso logra suavizar, pero mantiene su distribución asimetrica con cola a la derecha. Por tanto para continuar con el estudio no usaremos la variable transformada log_ingreso."
   ]
  },
  {
   "cell_type": "code",
   "execution_count": 55,
   "id": "58d54986",
   "metadata": {},
   "outputs": [],
   "source": [
    "dataset = dataset.drop([\"log_ingreso\"],axis=1)"
   ]
  },
  {
   "cell_type": "markdown",
   "id": "36120247",
   "metadata": {},
   "source": [
    "Se observa ue las variables: \n",
    "- AniosDireccion tiene una distribución asimetrica con cola a la derecha y una media de 11.56 años.\n",
    "- Gastocoche tiene una distribución asimetrica con cola a la derecha y una media de 30.13.\n",
    "- Aniosempleo tiene una distribución asimetrica con cola a la derecha y una media de 10.57 años.\n",
    "- Aniosresident tiene una distribución asimetrica con cola a la derecha y una media de 2.35 años."
   ]
  },
  {
   "cell_type": "markdown",
   "id": "40379a1f",
   "metadata": {},
   "source": [
    "## 4.- De acuerdo al objetivo de negocio planteado, realizar un análisis de asociación o correlación comentando y documentando sus posibles hallazgos."
   ]
  },
  {
   "cell_type": "code",
   "execution_count": 56,
   "id": "76564ba8",
   "metadata": {},
   "outputs": [
    {
     "data": {
      "text/html": [
       "<div>\n",
       "<style scoped>\n",
       "    .dataframe tbody tr th:only-of-type {\n",
       "        vertical-align: middle;\n",
       "    }\n",
       "\n",
       "    .dataframe tbody tr th {\n",
       "        vertical-align: top;\n",
       "    }\n",
       "\n",
       "    .dataframe thead th {\n",
       "        text-align: right;\n",
       "    }\n",
       "</style>\n",
       "<table border=\"1\" class=\"dataframe\">\n",
       "  <thead>\n",
       "    <tr style=\"text-align: right;\">\n",
       "      <th></th>\n",
       "      <th>edad</th>\n",
       "      <th>AniosDireccion</th>\n",
       "      <th>Gastocoche</th>\n",
       "      <th>Aniosempleo</th>\n",
       "      <th>Aniosresiden</th>\n",
       "      <th>ingres</th>\n",
       "    </tr>\n",
       "  </thead>\n",
       "  <tbody>\n",
       "    <tr>\n",
       "      <th>edad</th>\n",
       "      <td>1.000000</td>\n",
       "      <td>0.614779</td>\n",
       "      <td>0.376252</td>\n",
       "      <td>0.619960</td>\n",
       "      <td>-0.241360</td>\n",
       "      <td>0.335200</td>\n",
       "    </tr>\n",
       "    <tr>\n",
       "      <th>AniosDireccion</th>\n",
       "      <td>0.614779</td>\n",
       "      <td>1.000000</td>\n",
       "      <td>0.239569</td>\n",
       "      <td>0.374672</td>\n",
       "      <td>-0.156798</td>\n",
       "      <td>0.215638</td>\n",
       "    </tr>\n",
       "    <tr>\n",
       "      <th>Gastocoche</th>\n",
       "      <td>0.376252</td>\n",
       "      <td>0.239569</td>\n",
       "      <td>1.000000</td>\n",
       "      <td>0.638717</td>\n",
       "      <td>-0.090080</td>\n",
       "      <td>0.792142</td>\n",
       "    </tr>\n",
       "    <tr>\n",
       "      <th>Aniosempleo</th>\n",
       "      <td>0.619960</td>\n",
       "      <td>0.374672</td>\n",
       "      <td>0.638717</td>\n",
       "      <td>1.000000</td>\n",
       "      <td>-0.148438</td>\n",
       "      <td>0.579186</td>\n",
       "    </tr>\n",
       "    <tr>\n",
       "      <th>Aniosresiden</th>\n",
       "      <td>-0.241360</td>\n",
       "      <td>-0.156798</td>\n",
       "      <td>-0.090080</td>\n",
       "      <td>-0.148438</td>\n",
       "      <td>1.000000</td>\n",
       "      <td>-0.066275</td>\n",
       "    </tr>\n",
       "    <tr>\n",
       "      <th>ingres</th>\n",
       "      <td>0.335200</td>\n",
       "      <td>0.215638</td>\n",
       "      <td>0.792142</td>\n",
       "      <td>0.579186</td>\n",
       "      <td>-0.066275</td>\n",
       "      <td>1.000000</td>\n",
       "    </tr>\n",
       "  </tbody>\n",
       "</table>\n",
       "</div>"
      ],
      "text/plain": [
       "                    edad  AniosDireccion  Gastocoche  Aniosempleo  \\\n",
       "edad            1.000000        0.614779    0.376252     0.619960   \n",
       "AniosDireccion  0.614779        1.000000    0.239569     0.374672   \n",
       "Gastocoche      0.376252        0.239569    1.000000     0.638717   \n",
       "Aniosempleo     0.619960        0.374672    0.638717     1.000000   \n",
       "Aniosresiden   -0.241360       -0.156798   -0.090080    -0.148438   \n",
       "ingres          0.335200        0.215638    0.792142     0.579186   \n",
       "\n",
       "                Aniosresiden    ingres  \n",
       "edad               -0.241360  0.335200  \n",
       "AniosDireccion     -0.156798  0.215638  \n",
       "Gastocoche         -0.090080  0.792142  \n",
       "Aniosempleo        -0.148438  0.579186  \n",
       "Aniosresiden        1.000000 -0.066275  \n",
       "ingres             -0.066275  1.000000  "
      ]
     },
     "execution_count": 56,
     "metadata": {},
     "output_type": "execute_result"
    }
   ],
   "source": [
    "# Correlaciones de variables\n",
    "dataset.corr(method='pearson')"
   ]
  },
  {
   "cell_type": "code",
   "execution_count": 57,
   "id": "0a680212",
   "metadata": {},
   "outputs": [
    {
     "data": {
      "text/plain": [
       "(6.0, 0.0)"
      ]
     },
     "execution_count": 57,
     "metadata": {},
     "output_type": "execute_result"
    },
    {
     "data": {
      "image/png": "[encoded data removed]",
      "text/plain": [
       "<Figure size 1152x720 with 2 Axes>"
      ]
     },
     "metadata": {},
     "output_type": "display_data"
    }
   ],
   "source": [
    "sns.set(font_scale=2)\n",
    "corr_matrix = dataset.corr()\n",
    "plt.figure(figsize=(16, 10))\n",
    "ax = sns.heatmap(corr_matrix,annot=True, fmt=\".1f\",cmap=\"YlGnBu\") \n",
    "ax.set_ylim(sorted(ax.get_xlim(), reverse=True))"
   ]
  },
  {
   "cell_type": "markdown",
   "id": "925c491e",
   "metadata": {},
   "source": [
    "Existe una correlación fuerte positiva entre las variabes Gastocoche con la variable respuesta ingres el cua es de 0.79. La siguiente correlación fuerte positiva ue resalta es la que hay entre la variable respuesta con la variable Aniosresiden. La variable menos correlacionada y de manera negaiva es la vriable respuesta con la variable Aniosresident.\n",
    "\n",
    "Es impoante indicar ue la unica variable que se correlacina de manea negativa con todas las demás variables del estudio es la de Anios residen"
   ]
  },
  {
   "cell_type": "markdown",
   "id": "236efeec",
   "metadata": {},
   "source": [
    "## 5.- Realizar un análisis de detección de posibles valores atípicos en las principales variables. Si es que detecta estos posibles valores atípicos, ¿Crees que sería más adecuado retirar esos registros atípicos, o retirar las variables que tengan más valores atípicos?"
   ]
  },
  {
   "cell_type": "markdown",
   "id": "b2df82e3",
   "metadata": {},
   "source": [
    "## Para la detección de valores atípico univariantes"
   ]
  },
  {
   "cell_type": "markdown",
   "id": "bb5d0344",
   "metadata": {},
   "source": [
    "### ingres"
   ]
  },
  {
   "cell_type": "code",
   "execution_count": 58,
   "id": "74f3949b",
   "metadata": {},
   "outputs": [
    {
     "name": "stdout",
     "output_type": "stream",
     "text": [
      "Q1 = 28.0\n",
      "Q3 = 79.0\n",
      "IQR = 51.0\n",
      "Datos con outliers en el Precio = 552\n",
      "Datos sin outliers en el Precio = 5848\n"
     ]
    }
   ],
   "source": [
    "r = dataset[['ingres']]\n",
    "## Metodo IQR\n",
    "Q1 = r.quantile(0.25)\n",
    "Q3 = r.quantile(0.75)\n",
    "IQR = Q3 - Q1\n",
    "print(\"Q1 = {}\".format(Q1[0]))\n",
    "print(\"Q3 = {}\".format(Q3[0]))\n",
    "print(\"IQR = {}\".format(IQR[0]))\n",
    "Data_SO = r[~((r < (Q1 - 1.5 * IQR)) |(r > (Q3 + 1.5 * IQR))).any(axis=1)]\n",
    "Data_CO = r[((r < (Q1 - 1.5 * IQR)) |(r > (Q3 + 1.5 * IQR))).any(axis=1)]\n",
    "print(\"Datos con outliers en el Precio = {}\".format(Data_CO.shape[0]))\n",
    "print(\"Datos sin outliers en el Precio = {}\".format(Data_SO.shape[0]))"
   ]
  },
  {
   "cell_type": "markdown",
   "id": "9cc5431b",
   "metadata": {},
   "source": [
    "Menos al 10% de los valores se detecta como atípicos, pero debemos recordar que como se indico antes la disribución de esta varible es asimetrica no es simetrica."
   ]
  },
  {
   "cell_type": "markdown",
   "id": "fb361a8a",
   "metadata": {},
   "source": [
    "### edad"
   ]
  },
  {
   "cell_type": "code",
   "execution_count": 59,
   "id": "4737434a",
   "metadata": {},
   "outputs": [
    {
     "name": "stdout",
     "output_type": "stream",
     "text": [
      "Q1 = 33.0\n",
      "Q3 = 51.0\n",
      "IQR = 18.0\n",
      "Datos con outliers en el Precio = 0\n",
      "Datos sin outliers en el Precio = 6400\n"
     ]
    }
   ],
   "source": [
    "r = dataset[['edad']]\n",
    "## Metodo IQR\n",
    "Q1 = r.quantile(0.25)\n",
    "Q3 = r.quantile(0.75)\n",
    "IQR = Q3 - Q1\n",
    "print(\"Q1 = {}\".format(Q1[0]))\n",
    "print(\"Q3 = {}\".format(Q3[0]))\n",
    "print(\"IQR = {}\".format(IQR[0]))\n",
    "Data_SO = r[~((r < (Q1 - 1.5 * IQR)) |(r > (Q3 + 1.5 * IQR))).any(axis=1)]\n",
    "Data_CO = r[((r < (Q1 - 1.5 * IQR)) |(r > (Q3 + 1.5 * IQR))).any(axis=1)]\n",
    "print(\"Datos con outliers en el Precio = {}\".format(Data_CO.shape[0]))\n",
    "print(\"Datos sin outliers en el Precio = {}\".format(Data_SO.shape[0]))"
   ]
  },
  {
   "cell_type": "markdown",
   "id": "0511edfc",
   "metadata": {},
   "source": [
    "No se detecta ningún valor atípico."
   ]
  },
  {
   "cell_type": "markdown",
   "id": "52849183",
   "metadata": {},
   "source": [
    "### AniosDireccion"
   ]
  },
  {
   "cell_type": "code",
   "execution_count": 60,
   "id": "53b41cdf",
   "metadata": {},
   "outputs": [
    {
     "name": "stdout",
     "output_type": "stream",
     "text": [
      "Q1 = 3.0\n",
      "Q3 = 17.0\n",
      "IQR = 14.0\n",
      "Datos con outliers en el Precio = 89\n",
      "Datos sin outliers en el Precio = 6311\n"
     ]
    }
   ],
   "source": [
    "r = dataset[['AniosDireccion']]\n",
    "## Metodo IQR\n",
    "Q1 = r.quantile(0.25)\n",
    "Q3 = r.quantile(0.75)\n",
    "IQR = Q3 - Q1\n",
    "print(\"Q1 = {}\".format(Q1[0]))\n",
    "print(\"Q3 = {}\".format(Q3[0]))\n",
    "print(\"IQR = {}\".format(IQR[0]))\n",
    "Data_SO = r[~((r < (Q1 - 1.5 * IQR)) |(r > (Q3 + 1.5 * IQR))).any(axis=1)]\n",
    "Data_CO = r[((r < (Q1 - 1.5 * IQR)) |(r > (Q3 + 1.5 * IQR))).any(axis=1)]\n",
    "print(\"Datos con outliers en el Precio = {}\".format(Data_CO.shape[0]))\n",
    "print(\"Datos sin outliers en el Precio = {}\".format(Data_SO.shape[0]))"
   ]
  },
  {
   "cell_type": "markdown",
   "id": "4e9e9741",
   "metadata": {},
   "source": [
    "Menos del 2% de os valores son detectados como atípicos"
   ]
  },
  {
   "cell_type": "markdown",
   "id": "d90bf967",
   "metadata": {},
   "source": [
    "### Gastocoche"
   ]
  },
  {
   "cell_type": "code",
   "execution_count": 61,
   "id": "9f222d2f",
   "metadata": {},
   "outputs": [
    {
     "name": "stdout",
     "output_type": "stream",
     "text": [
      "Q1 = 13.9\n",
      "Q3 = 39.5\n",
      "IQR = 25.6\n",
      "Datos con outliers en el Precio = 298\n",
      "Datos sin outliers en el Precio = 6102\n"
     ]
    }
   ],
   "source": [
    "r = dataset[['Gastocoche']]\n",
    "## Metodo IQR\n",
    "Q1 = r.quantile(0.25)\n",
    "Q3 = r.quantile(0.75)\n",
    "IQR = Q3 - Q1\n",
    "print(\"Q1 = {}\".format(Q1[0]))\n",
    "print(\"Q3 = {}\".format(Q3[0]))\n",
    "print(\"IQR = {}\".format(IQR[0]))\n",
    "Data_SO = r[~((r < (Q1 - 1.5 * IQR)) |(r > (Q3 + 1.5 * IQR))).any(axis=1)]\n",
    "Data_CO = r[((r < (Q1 - 1.5 * IQR)) |(r > (Q3 + 1.5 * IQR))).any(axis=1)]\n",
    "print(\"Datos con outliers en el Precio = {}\".format(Data_CO.shape[0]))\n",
    "print(\"Datos sin outliers en el Precio = {}\".format(Data_SO.shape[0]))"
   ]
  },
  {
   "cell_type": "markdown",
   "id": "175dd218",
   "metadata": {},
   "source": [
    "Menos del 5% son detectados como valores atípicos."
   ]
  },
  {
   "cell_type": "markdown",
   "id": "cb64cb37",
   "metadata": {},
   "source": [
    "### Aniosempleo"
   ]
  },
  {
   "cell_type": "code",
   "execution_count": 62,
   "id": "88046a93",
   "metadata": {},
   "outputs": [
    {
     "name": "stdout",
     "output_type": "stream",
     "text": [
      "Q1 = 3.0\n",
      "Q3 = 16.0\n",
      "IQR = 13.0\n",
      "Datos con outliers en el Precio = 139\n",
      "Datos sin outliers en el Precio = 6261\n"
     ]
    }
   ],
   "source": [
    "r = dataset[['Aniosempleo']]\n",
    "## Metodo IQR\n",
    "Q1 = r.quantile(0.25)\n",
    "Q3 = r.quantile(0.75)\n",
    "IQR = Q3 - Q1\n",
    "print(\"Q1 = {}\".format(Q1[0]))\n",
    "print(\"Q3 = {}\".format(Q3[0]))\n",
    "print(\"IQR = {}\".format(IQR[0]))\n",
    "Data_SO = r[~((r < (Q1 - 1.5 * IQR)) |(r > (Q3 + 1.5 * IQR))).any(axis=1)]\n",
    "Data_CO = r[((r < (Q1 - 1.5 * IQR)) |(r > (Q3 + 1.5 * IQR))).any(axis=1)]\n",
    "print(\"Datos con outliers en el Precio = {}\".format(Data_CO.shape[0]))\n",
    "print(\"Datos sin outliers en el Precio = {}\".format(Data_SO.shape[0]))"
   ]
  },
  {
   "cell_type": "markdown",
   "id": "dcaf50e8",
   "metadata": {},
   "source": [
    "Menos del 3% son detectados como valores atípicos."
   ]
  },
  {
   "cell_type": "markdown",
   "id": "7a033430",
   "metadata": {},
   "source": [
    "### Aniosresiden"
   ]
  },
  {
   "cell_type": "code",
   "execution_count": 63,
   "id": "96b6998f",
   "metadata": {},
   "outputs": [
    {
     "name": "stdout",
     "output_type": "stream",
     "text": [
      "Q1 = 1.0\n",
      "Q3 = 3.0\n",
      "IQR = 2.0\n",
      "Datos con outliers en el Precio = 56\n",
      "Datos sin outliers en el Precio = 6344\n"
     ]
    }
   ],
   "source": [
    "r = dataset[['Aniosresiden']]\n",
    "## Metodo IQR\n",
    "Q1 = r.quantile(0.25)\n",
    "Q3 = r.quantile(0.75)\n",
    "IQR = Q3 - Q1\n",
    "print(\"Q1 = {}\".format(Q1[0]))\n",
    "print(\"Q3 = {}\".format(Q3[0]))\n",
    "print(\"IQR = {}\".format(IQR[0]))\n",
    "Data_SO = r[~((r < (Q1 - 1.5 * IQR)) |(r > (Q3 + 1.5 * IQR))).any(axis=1)]\n",
    "Data_CO = r[((r < (Q1 - 1.5 * IQR)) |(r > (Q3 + 1.5 * IQR))).any(axis=1)]\n",
    "print(\"Datos con outliers en el Precio = {}\".format(Data_CO.shape[0]))\n",
    "print(\"Datos sin outliers en el Precio = {}\".format(Data_SO.shape[0]))"
   ]
  },
  {
   "cell_type": "markdown",
   "id": "8f3ee287",
   "metadata": {},
   "source": [
    "Menos del 1% son detectados como valores atípicos"
   ]
  },
  {
   "cell_type": "markdown",
   "id": "cc0697f2",
   "metadata": {},
   "source": [
    "Se considera mejor retirar registro atípicos que variables que presentan mayor valores atipicos, una de las razones es porque con el analisis univariable de atípicos bajo el metodo IQR, la variable que presenta mayor cantidad de valores atipicos es a variable respuesta por ende no puede ser eliminada. La segunda variable que presenta mas variables atipicos es Gatocoche (menos del 5%) perdería toda una variable por tan solo el 5% de valores atipicos no es justificable la perdida."
   ]
  },
  {
   "cell_type": "markdown",
   "id": "db25e51c",
   "metadata": {},
   "source": [
    "Por otro lado realizar un analisis solo univarible para detección de outliers no es adecuad por lo que se usará metodos multivariante"
   ]
  },
  {
   "cell_type": "markdown",
   "id": "e912a86b",
   "metadata": {},
   "source": [
    "### Tranformación: Estandarización"
   ]
  },
  {
   "cell_type": "code",
   "execution_count": 64,
   "id": "b0fc9e05",
   "metadata": {},
   "outputs": [
    {
     "data": {
      "text/html": [
       "<div>\n",
       "<style scoped>\n",
       "    .dataframe tbody tr th:only-of-type {\n",
       "        vertical-align: middle;\n",
       "    }\n",
       "\n",
       "    .dataframe tbody tr th {\n",
       "        vertical-align: top;\n",
       "    }\n",
       "\n",
       "    .dataframe thead th {\n",
       "        text-align: right;\n",
       "    }\n",
       "</style>\n",
       "<table border=\"1\" class=\"dataframe\">\n",
       "  <thead>\n",
       "    <tr style=\"text-align: right;\">\n",
       "      <th></th>\n",
       "      <th>edad</th>\n",
       "      <th>AniosDireccion</th>\n",
       "      <th>Gastocoche</th>\n",
       "      <th>Aniosempleo</th>\n",
       "      <th>Aniosresiden</th>\n",
       "      <th>ingres</th>\n",
       "    </tr>\n",
       "  </thead>\n",
       "  <tbody>\n",
       "    <tr>\n",
       "      <th>0</th>\n",
       "      <td>1.053127</td>\n",
       "      <td>0.044293</td>\n",
       "      <td>0.276924</td>\n",
       "      <td>1.278706</td>\n",
       "      <td>1.124059</td>\n",
       "      <td>0.032081</td>\n",
       "    </tr>\n",
       "    <tr>\n",
       "      <th>1</th>\n",
       "      <td>1.134503</td>\n",
       "      <td>1.755009</td>\n",
       "      <td>2.133236</td>\n",
       "      <td>2.512804</td>\n",
       "      <td>-0.919297</td>\n",
       "      <td>1.061143</td>\n",
       "    </tr>\n",
       "    <tr>\n",
       "      <th>2</th>\n",
       "      <td>-1.144040</td>\n",
       "      <td>-0.257598</td>\n",
       "      <td>-0.749292</td>\n",
       "      <td>-0.675283</td>\n",
       "      <td>0.442940</td>\n",
       "      <td>-0.526916</td>\n",
       "    </tr>\n",
       "    <tr>\n",
       "      <th>3</th>\n",
       "      <td>-1.469546</td>\n",
       "      <td>-0.760750</td>\n",
       "      <td>-0.804023</td>\n",
       "      <td>-1.086649</td>\n",
       "      <td>0.442940</td>\n",
       "      <td>-0.552325</td>\n",
       "    </tr>\n",
       "    <tr>\n",
       "      <th>4</th>\n",
       "      <td>-1.388169</td>\n",
       "      <td>-0.962010</td>\n",
       "      <td>-0.858755</td>\n",
       "      <td>-0.572442</td>\n",
       "      <td>-0.238179</td>\n",
       "      <td>-0.590439</td>\n",
       "    </tr>\n",
       "    <tr>\n",
       "      <th>5</th>\n",
       "      <td>0.239361</td>\n",
       "      <td>-0.257598</td>\n",
       "      <td>0.322534</td>\n",
       "      <td>0.250291</td>\n",
       "      <td>-0.238179</td>\n",
       "      <td>0.082899</td>\n",
       "    </tr>\n",
       "    <tr>\n",
       "      <th>6</th>\n",
       "      <td>-0.004768</td>\n",
       "      <td>0.748706</td>\n",
       "      <td>-0.471073</td>\n",
       "      <td>-0.058234</td>\n",
       "      <td>-0.919297</td>\n",
       "      <td>-0.374462</td>\n",
       "    </tr>\n",
       "    <tr>\n",
       "      <th>7</th>\n",
       "      <td>-0.574404</td>\n",
       "      <td>0.346184</td>\n",
       "      <td>-0.087952</td>\n",
       "      <td>-0.983808</td>\n",
       "      <td>-0.919297</td>\n",
       "      <td>-0.158486</td>\n",
       "    </tr>\n",
       "    <tr>\n",
       "      <th>8</th>\n",
       "      <td>0.320738</td>\n",
       "      <td>1.453118</td>\n",
       "      <td>-0.817706</td>\n",
       "      <td>0.044608</td>\n",
       "      <td>-0.238179</td>\n",
       "      <td>-0.577734</td>\n",
       "    </tr>\n",
       "    <tr>\n",
       "      <th>9</th>\n",
       "      <td>-0.655780</td>\n",
       "      <td>-1.163271</td>\n",
       "      <td>0.728460</td>\n",
       "      <td>0.147449</td>\n",
       "      <td>2.486296</td>\n",
       "      <td>0.248057</td>\n",
       "    </tr>\n",
       "  </tbody>\n",
       "</table>\n",
       "</div>"
      ],
      "text/plain": [
       "       edad  AniosDireccion  Gastocoche  Aniosempleo  Aniosresiden    ingres\n",
       "0  1.053127        0.044293    0.276924     1.278706      1.124059  0.032081\n",
       "1  1.134503        1.755009    2.133236     2.512804     -0.919297  1.061143\n",
       "2 -1.144040       -0.257598   -0.749292    -0.675283      0.442940 -0.526916\n",
       "3 -1.469546       -0.760750   -0.804023    -1.086649      0.442940 -0.552325\n",
       "4 -1.388169       -0.962010   -0.858755    -0.572442     -0.238179 -0.590439\n",
       "5  0.239361       -0.257598    0.322534     0.250291     -0.238179  0.082899\n",
       "6 -0.004768        0.748706   -0.471073    -0.058234     -0.919297 -0.374462\n",
       "7 -0.574404        0.346184   -0.087952    -0.983808     -0.919297 -0.158486\n",
       "8  0.320738        1.453118   -0.817706     0.044608     -0.238179 -0.577734\n",
       "9 -0.655780       -1.163271    0.728460     0.147449      2.486296  0.248057"
      ]
     },
     "execution_count": 64,
     "metadata": {},
     "output_type": "execute_result"
    }
   ],
   "source": [
    "scaler = StandardScaler()\n",
    "scaler = scaler.fit(dataset)\n",
    "estandarizar = scaler.transform(dataset)\n",
    "estandarizar = pd.DataFrame(estandarizar,columns=list(dataset.columns))\n",
    "estandarizar.head(10)"
   ]
  },
  {
   "cell_type": "markdown",
   "id": "2f20c593",
   "metadata": {},
   "source": [
    "### Isolation Forests"
   ]
  },
  {
   "cell_type": "code",
   "execution_count": 65,
   "id": "e706728c",
   "metadata": {},
   "outputs": [
    {
     "name": "stdout",
     "output_type": "stream",
     "text": [
      " 1    6336\n",
      "-1      64\n",
      "Name: anomaly, dtype: int64\n"
     ]
    }
   ],
   "source": [
    "from sklearn.ensemble import IsolationForest\n",
    "clf=IsolationForest(n_estimators=100, max_samples='auto', contamination=0.01, \\\n",
    "                        max_features=3, bootstrap=False, n_jobs=-1, random_state=2022, verbose=0)\n",
    "clf.fit(dataset)\n",
    "pred = clf.predict(dataset)\n",
    "dataset['anomaly']=pred\n",
    "outliers_if=dataset.loc[dataset['anomaly']==-1]\n",
    "outlier_if_index=list(outliers_if.index)\n",
    "#print(outlier_index)\n",
    "print(dataset['anomaly'].value_counts())"
   ]
  },
  {
   "cell_type": "code",
   "execution_count": 66,
   "id": "0d9a8787",
   "metadata": {},
   "outputs": [
    {
     "data": {
      "text/html": [
       "<div>\n",
       "<style scoped>\n",
       "    .dataframe tbody tr th:only-of-type {\n",
       "        vertical-align: middle;\n",
       "    }\n",
       "\n",
       "    .dataframe tbody tr th {\n",
       "        vertical-align: top;\n",
       "    }\n",
       "\n",
       "    .dataframe thead th {\n",
       "        text-align: right;\n",
       "    }\n",
       "</style>\n",
       "<table border=\"1\" class=\"dataframe\">\n",
       "  <thead>\n",
       "    <tr style=\"text-align: right;\">\n",
       "      <th></th>\n",
       "      <th>edad</th>\n",
       "      <th>AniosDireccion</th>\n",
       "      <th>Gastocoche</th>\n",
       "      <th>Aniosempleo</th>\n",
       "      <th>Aniosresiden</th>\n",
       "      <th>ingres</th>\n",
       "      <th>anomaly</th>\n",
       "    </tr>\n",
       "  </thead>\n",
       "  <tbody>\n",
       "    <tr>\n",
       "      <th>0</th>\n",
       "      <td>55</td>\n",
       "      <td>12</td>\n",
       "      <td>36.2</td>\n",
       "      <td>23</td>\n",
       "      <td>4</td>\n",
       "      <td>72</td>\n",
       "      <td>1</td>\n",
       "    </tr>\n",
       "    <tr>\n",
       "      <th>1</th>\n",
       "      <td>56</td>\n",
       "      <td>29</td>\n",
       "      <td>76.9</td>\n",
       "      <td>35</td>\n",
       "      <td>1</td>\n",
       "      <td>153</td>\n",
       "      <td>1</td>\n",
       "    </tr>\n",
       "    <tr>\n",
       "      <th>2</th>\n",
       "      <td>28</td>\n",
       "      <td>9</td>\n",
       "      <td>13.7</td>\n",
       "      <td>4</td>\n",
       "      <td>3</td>\n",
       "      <td>28</td>\n",
       "      <td>1</td>\n",
       "    </tr>\n",
       "    <tr>\n",
       "      <th>3</th>\n",
       "      <td>24</td>\n",
       "      <td>4</td>\n",
       "      <td>12.5</td>\n",
       "      <td>0</td>\n",
       "      <td>3</td>\n",
       "      <td>26</td>\n",
       "      <td>1</td>\n",
       "    </tr>\n",
       "    <tr>\n",
       "      <th>4</th>\n",
       "      <td>25</td>\n",
       "      <td>2</td>\n",
       "      <td>11.3</td>\n",
       "      <td>5</td>\n",
       "      <td>2</td>\n",
       "      <td>23</td>\n",
       "      <td>1</td>\n",
       "    </tr>\n",
       "    <tr>\n",
       "      <th>...</th>\n",
       "      <td>...</td>\n",
       "      <td>...</td>\n",
       "      <td>...</td>\n",
       "      <td>...</td>\n",
       "      <td>...</td>\n",
       "      <td>...</td>\n",
       "      <td>...</td>\n",
       "    </tr>\n",
       "    <tr>\n",
       "      <th>6395</th>\n",
       "      <td>23</td>\n",
       "      <td>1</td>\n",
       "      <td>7.4</td>\n",
       "      <td>0</td>\n",
       "      <td>1</td>\n",
       "      <td>15</td>\n",
       "      <td>1</td>\n",
       "    </tr>\n",
       "    <tr>\n",
       "      <th>6396</th>\n",
       "      <td>52</td>\n",
       "      <td>8</td>\n",
       "      <td>12.7</td>\n",
       "      <td>2</td>\n",
       "      <td>1</td>\n",
       "      <td>25</td>\n",
       "      <td>1</td>\n",
       "    </tr>\n",
       "    <tr>\n",
       "      <th>6397</th>\n",
       "      <td>42</td>\n",
       "      <td>20</td>\n",
       "      <td>29.4</td>\n",
       "      <td>16</td>\n",
       "      <td>1</td>\n",
       "      <td>59</td>\n",
       "      <td>1</td>\n",
       "    </tr>\n",
       "    <tr>\n",
       "      <th>6398</th>\n",
       "      <td>51</td>\n",
       "      <td>17</td>\n",
       "      <td>62.5</td>\n",
       "      <td>26</td>\n",
       "      <td>1</td>\n",
       "      <td>123</td>\n",
       "      <td>1</td>\n",
       "    </tr>\n",
       "    <tr>\n",
       "      <th>6399</th>\n",
       "      <td>28</td>\n",
       "      <td>3</td>\n",
       "      <td>11.1</td>\n",
       "      <td>2</td>\n",
       "      <td>1</td>\n",
       "      <td>22</td>\n",
       "      <td>1</td>\n",
       "    </tr>\n",
       "  </tbody>\n",
       "</table>\n",
       "<p>6400 rows × 7 columns</p>\n",
       "</div>"
      ],
      "text/plain": [
       "      edad  AniosDireccion  Gastocoche  Aniosempleo  Aniosresiden  ingres  \\\n",
       "0       55              12        36.2           23             4      72   \n",
       "1       56              29        76.9           35             1     153   \n",
       "2       28               9        13.7            4             3      28   \n",
       "3       24               4        12.5            0             3      26   \n",
       "4       25               2        11.3            5             2      23   \n",
       "...    ...             ...         ...          ...           ...     ...   \n",
       "6395    23               1         7.4            0             1      15   \n",
       "6396    52               8        12.7            2             1      25   \n",
       "6397    42              20        29.4           16             1      59   \n",
       "6398    51              17        62.5           26             1     123   \n",
       "6399    28               3        11.1            2             1      22   \n",
       "\n",
       "      anomaly  \n",
       "0           1  \n",
       "1           1  \n",
       "2           1  \n",
       "3           1  \n",
       "4           1  \n",
       "...       ...  \n",
       "6395        1  \n",
       "6396        1  \n",
       "6397        1  \n",
       "6398        1  \n",
       "6399        1  \n",
       "\n",
       "[6400 rows x 7 columns]"
      ]
     },
     "execution_count": 66,
     "metadata": {},
     "output_type": "execute_result"
    }
   ],
   "source": [
    "dataset"
   ]
  },
  {
   "cell_type": "markdown",
   "id": "b20ccb01",
   "metadata": {},
   "source": [
    "Reiramos de nuestro dataset los 64 outiers detectados con el metodo Isolation Forest"
   ]
  },
  {
   "cell_type": "code",
   "execution_count": 67,
   "id": "0cf1a4ac",
   "metadata": {},
   "outputs": [
    {
     "data": {
      "text/html": [
       "<div>\n",
       "<style scoped>\n",
       "    .dataframe tbody tr th:only-of-type {\n",
       "        vertical-align: middle;\n",
       "    }\n",
       "\n",
       "    .dataframe tbody tr th {\n",
       "        vertical-align: top;\n",
       "    }\n",
       "\n",
       "    .dataframe thead th {\n",
       "        text-align: right;\n",
       "    }\n",
       "</style>\n",
       "<table border=\"1\" class=\"dataframe\">\n",
       "  <thead>\n",
       "    <tr style=\"text-align: right;\">\n",
       "      <th></th>\n",
       "      <th>edad</th>\n",
       "      <th>AniosDireccion</th>\n",
       "      <th>Gastocoche</th>\n",
       "      <th>Aniosempleo</th>\n",
       "      <th>Aniosresiden</th>\n",
       "      <th>ingres</th>\n",
       "    </tr>\n",
       "  </thead>\n",
       "  <tbody>\n",
       "    <tr>\n",
       "      <th>0</th>\n",
       "      <td>55</td>\n",
       "      <td>12</td>\n",
       "      <td>36.2</td>\n",
       "      <td>23</td>\n",
       "      <td>4</td>\n",
       "      <td>72</td>\n",
       "    </tr>\n",
       "    <tr>\n",
       "      <th>1</th>\n",
       "      <td>56</td>\n",
       "      <td>29</td>\n",
       "      <td>76.9</td>\n",
       "      <td>35</td>\n",
       "      <td>1</td>\n",
       "      <td>153</td>\n",
       "    </tr>\n",
       "    <tr>\n",
       "      <th>2</th>\n",
       "      <td>28</td>\n",
       "      <td>9</td>\n",
       "      <td>13.7</td>\n",
       "      <td>4</td>\n",
       "      <td>3</td>\n",
       "      <td>28</td>\n",
       "    </tr>\n",
       "    <tr>\n",
       "      <th>3</th>\n",
       "      <td>24</td>\n",
       "      <td>4</td>\n",
       "      <td>12.5</td>\n",
       "      <td>0</td>\n",
       "      <td>3</td>\n",
       "      <td>26</td>\n",
       "    </tr>\n",
       "    <tr>\n",
       "      <th>4</th>\n",
       "      <td>25</td>\n",
       "      <td>2</td>\n",
       "      <td>11.3</td>\n",
       "      <td>5</td>\n",
       "      <td>2</td>\n",
       "      <td>23</td>\n",
       "    </tr>\n",
       "    <tr>\n",
       "      <th>...</th>\n",
       "      <td>...</td>\n",
       "      <td>...</td>\n",
       "      <td>...</td>\n",
       "      <td>...</td>\n",
       "      <td>...</td>\n",
       "      <td>...</td>\n",
       "    </tr>\n",
       "    <tr>\n",
       "      <th>6395</th>\n",
       "      <td>23</td>\n",
       "      <td>1</td>\n",
       "      <td>7.4</td>\n",
       "      <td>0</td>\n",
       "      <td>1</td>\n",
       "      <td>15</td>\n",
       "    </tr>\n",
       "    <tr>\n",
       "      <th>6396</th>\n",
       "      <td>52</td>\n",
       "      <td>8</td>\n",
       "      <td>12.7</td>\n",
       "      <td>2</td>\n",
       "      <td>1</td>\n",
       "      <td>25</td>\n",
       "    </tr>\n",
       "    <tr>\n",
       "      <th>6397</th>\n",
       "      <td>42</td>\n",
       "      <td>20</td>\n",
       "      <td>29.4</td>\n",
       "      <td>16</td>\n",
       "      <td>1</td>\n",
       "      <td>59</td>\n",
       "    </tr>\n",
       "    <tr>\n",
       "      <th>6398</th>\n",
       "      <td>51</td>\n",
       "      <td>17</td>\n",
       "      <td>62.5</td>\n",
       "      <td>26</td>\n",
       "      <td>1</td>\n",
       "      <td>123</td>\n",
       "    </tr>\n",
       "    <tr>\n",
       "      <th>6399</th>\n",
       "      <td>28</td>\n",
       "      <td>3</td>\n",
       "      <td>11.1</td>\n",
       "      <td>2</td>\n",
       "      <td>1</td>\n",
       "      <td>22</td>\n",
       "    </tr>\n",
       "  </tbody>\n",
       "</table>\n",
       "<p>6336 rows × 6 columns</p>\n",
       "</div>"
      ],
      "text/plain": [
       "      edad  AniosDireccion  Gastocoche  Aniosempleo  Aniosresiden  ingres\n",
       "0       55              12        36.2           23             4      72\n",
       "1       56              29        76.9           35             1     153\n",
       "2       28               9        13.7            4             3      28\n",
       "3       24               4        12.5            0             3      26\n",
       "4       25               2        11.3            5             2      23\n",
       "...    ...             ...         ...          ...           ...     ...\n",
       "6395    23               1         7.4            0             1      15\n",
       "6396    52               8        12.7            2             1      25\n",
       "6397    42              20        29.4           16             1      59\n",
       "6398    51              17        62.5           26             1     123\n",
       "6399    28               3        11.1            2             1      22\n",
       "\n",
       "[6336 rows x 6 columns]"
      ]
     },
     "execution_count": 67,
     "metadata": {},
     "output_type": "execute_result"
    }
   ],
   "source": [
    "dataset1 = dataset.loc[dataset['anomaly']==1].drop([\"anomaly\"],axis=1)\n",
    "dataset1"
   ]
  },
  {
   "cell_type": "markdown",
   "id": "52241395",
   "metadata": {},
   "source": [
    "## 6.- Aplicar el modelo regresión lineal múltiple, para ello como el dataset no es una información con temporalidad por ello se puede aplicar la partición train_test_split (testear con un 20%) y luego interpretar los coeficientes de dichas variables, por último, ver el resultado de el test la métrica de RSME e interpretarlo.\n"
   ]
  },
  {
   "cell_type": "code",
   "execution_count": 68,
   "id": "17da81e6",
   "metadata": {},
   "outputs": [],
   "source": [
    "from sklearn.model_selection import train_test_split"
   ]
  },
  {
   "cell_type": "code",
   "execution_count": 69,
   "id": "1d08ed5a",
   "metadata": {},
   "outputs": [],
   "source": [
    "y=dataset1[\"ingres\"]\n",
    "X=dataset1.drop([\"ingres\"],axis=1)"
   ]
  },
  {
   "cell_type": "code",
   "execution_count": 70,
   "id": "0f333644",
   "metadata": {},
   "outputs": [],
   "source": [
    "X_train, X_test, y_train, y_test = train_test_split(X,y, test_size=0.20,random_state=2022)"
   ]
  },
  {
   "cell_type": "markdown",
   "id": "a5aa97de",
   "metadata": {},
   "source": [
    "### Modelo de Regresión Lineal Múltiple"
   ]
  },
  {
   "cell_type": "code",
   "execution_count": 71,
   "id": "53360fc5",
   "metadata": {},
   "outputs": [
    {
     "data": {
      "text/plain": [
       "LinearRegression()"
      ]
     },
     "execution_count": 71,
     "metadata": {},
     "output_type": "execute_result"
    }
   ],
   "source": [
    "from sklearn.linear_model import LinearRegression\n",
    "lm = LinearRegression()\n",
    "lm.fit(X_train,y_train)"
   ]
  },
  {
   "cell_type": "code",
   "execution_count": 72,
   "id": "fe76e7a3",
   "metadata": {},
   "outputs": [
    {
     "data": {
      "text/plain": [
       "{'copy_X': True,\n",
       " 'fit_intercept': True,\n",
       " 'n_jobs': None,\n",
       " 'normalize': 'deprecated',\n",
       " 'positive': False}"
      ]
     },
     "execution_count": 72,
     "metadata": {},
     "output_type": "execute_result"
    }
   ],
   "source": [
    "lm.get_params()"
   ]
  },
  {
   "cell_type": "code",
   "execution_count": 73,
   "id": "8356e888",
   "metadata": {},
   "outputs": [
    {
     "name": "stdout",
     "output_type": "stream",
     "text": [
      "Coefficients: \n",
      " [-0.06682154  0.05795084  2.51363491  0.33517253  0.03861282]\n"
     ]
    }
   ],
   "source": [
    "# The coefficients\n",
    "print('Coefficients: \\n', lm.coef_)"
   ]
  },
  {
   "cell_type": "code",
   "execution_count": 74,
   "id": "c148468f",
   "metadata": {},
   "outputs": [
    {
     "data": {
      "text/html": [
       "<div>\n",
       "<style scoped>\n",
       "    .dataframe tbody tr th:only-of-type {\n",
       "        vertical-align: middle;\n",
       "    }\n",
       "\n",
       "    .dataframe tbody tr th {\n",
       "        vertical-align: top;\n",
       "    }\n",
       "\n",
       "    .dataframe thead th {\n",
       "        text-align: right;\n",
       "    }\n",
       "</style>\n",
       "<table border=\"1\" class=\"dataframe\">\n",
       "  <thead>\n",
       "    <tr style=\"text-align: right;\">\n",
       "      <th></th>\n",
       "      <th>Columns</th>\n",
       "      <th>Coefficient_Estimate</th>\n",
       "    </tr>\n",
       "  </thead>\n",
       "  <tbody>\n",
       "    <tr>\n",
       "      <th>0</th>\n",
       "      <td>edad</td>\n",
       "      <td>-0.066822</td>\n",
       "    </tr>\n",
       "    <tr>\n",
       "      <th>1</th>\n",
       "      <td>AniosDireccion</td>\n",
       "      <td>0.057951</td>\n",
       "    </tr>\n",
       "    <tr>\n",
       "      <th>2</th>\n",
       "      <td>Gastocoche</td>\n",
       "      <td>2.513635</td>\n",
       "    </tr>\n",
       "    <tr>\n",
       "      <th>3</th>\n",
       "      <td>Aniosempleo</td>\n",
       "      <td>0.335173</td>\n",
       "    </tr>\n",
       "    <tr>\n",
       "      <th>4</th>\n",
       "      <td>Aniosresiden</td>\n",
       "      <td>0.038613</td>\n",
       "    </tr>\n",
       "  </tbody>\n",
       "</table>\n",
       "</div>"
      ],
      "text/plain": [
       "          Columns  Coefficient_Estimate\n",
       "0            edad             -0.066822\n",
       "1  AniosDireccion              0.057951\n",
       "2      Gastocoche              2.513635\n",
       "3     Aniosempleo              0.335173\n",
       "4    Aniosresiden              0.038613"
      ]
     },
     "execution_count": 74,
     "metadata": {},
     "output_type": "execute_result"
    }
   ],
   "source": [
    "## Coefiencientes del modelo\n",
    "rL_coefficient = pd.DataFrame() \n",
    "rL_coefficient[\"Columns\"]= X_train.columns \n",
    "rL_coefficient['Coefficient_Estimate'] = pd.DataFrame(lm.coef_)\n",
    "rL_coefficient"
   ]
  },
  {
   "cell_type": "code",
   "execution_count": 75,
   "id": "8bf08199",
   "metadata": {},
   "outputs": [],
   "source": [
    "def mean_absolute_percentage_error(y_true, y_pred):\n",
    "    y_true, y_pred = np.array(y_true), np.array(y_pred)\n",
    "    return np.mean(np.abs((y_true - y_pred) / y_true)) * 100"
   ]
  },
  {
   "cell_type": "code",
   "execution_count": 76,
   "id": "20ab0c1a",
   "metadata": {},
   "outputs": [
    {
     "name": "stdout",
     "output_type": "stream",
     "text": [
      "MAE: 13.013855638183701\n",
      "MSE: 1438.415712313262\n",
      "RMSE: 37.926451354078225\n",
      "MAPE: 17.110387515442184\n"
     ]
    }
   ],
   "source": [
    "from sklearn.metrics import mean_squared_error\n",
    "from sklearn import metrics\n",
    "#predicciones\n",
    "predictions_lr = lm.predict(X_test)\n",
    "\n",
    "print('MAE:', metrics.mean_absolute_error(y_test, predictions_lr))\n",
    "print('MSE:', metrics.mean_squared_error(y_test, predictions_lr))\n",
    "print('RMSE:', np.sqrt(metrics.mean_squared_error(y_test, predictions_lr)))\n",
    "print('MAPE:', mean_absolute_percentage_error(y_test, predictions_lr))"
   ]
  },
  {
   "cell_type": "markdown",
   "id": "38dfce51",
   "metadata": {},
   "source": [
    "Las predicciones del modelo final se alejan en promedio 37.9265 unidades del valor real"
   ]
  },
  {
   "cell_type": "markdown",
   "id": "92d2eaee",
   "metadata": {},
   "source": [
    "## 7.- Aplicar 3 diferentes tipos de modelos regresión que se hizo en clase de acuerdo a su criterio, luego la partición use la misma de la pregunta 6. Y por último compare cual de ellos tienes el RSME más bajo para determinar cual fue el mejor modelo con el que se quedó."
   ]
  },
  {
   "cell_type": "markdown",
   "id": "2ef46a68",
   "metadata": {},
   "source": [
    "### Modelo Bayesiano"
   ]
  },
  {
   "cell_type": "code",
   "execution_count": 87,
   "id": "5be1a5fa",
   "metadata": {},
   "outputs": [
    {
     "data": {
      "text/plain": [
       "BayesianRidge()"
      ]
     },
     "execution_count": 87,
     "metadata": {},
     "output_type": "execute_result"
    }
   ],
   "source": [
    "from sklearn import linear_model\n",
    "reg = linear_model.BayesianRidge()\n",
    "reg.fit(X_train, y_train)"
   ]
  },
  {
   "cell_type": "code",
   "execution_count": 88,
   "id": "f5a2c62a",
   "metadata": {},
   "outputs": [
    {
     "data": {
      "text/plain": [
       "BayesianRidge()"
      ]
     },
     "execution_count": 88,
     "metadata": {},
     "output_type": "execute_result"
    }
   ],
   "source": [
    "from sklearn import linear_model\n",
    "reg = linear_model.BayesianRidge()\n",
    "reg.fit(X_train, y_train)"
   ]
  },
  {
   "cell_type": "code",
   "execution_count": 89,
   "id": "3febc9b7",
   "metadata": {},
   "outputs": [
    {
     "name": "stdout",
     "output_type": "stream",
     "text": [
      "Coefficients: \n",
      " [-0.06626273  0.05770339  2.51245641  0.33581726  0.03575509]\n"
     ]
    }
   ],
   "source": [
    "# The coefficients\n",
    "print('Coefficients: \\n', reg.coef_)"
   ]
  },
  {
   "cell_type": "code",
   "execution_count": 90,
   "id": "87865a25",
   "metadata": {},
   "outputs": [
    {
     "name": "stdout",
     "output_type": "stream",
     "text": [
      "MAE: 13.005776275090522\n",
      "MSE: 1438.4314977769018\n",
      "RMSE: 37.92665945976394\n",
      "MAPE: 17.083499639276667\n"
     ]
    }
   ],
   "source": [
    "#predicciones\n",
    "predictions_baye = reg.predict(X_test)\n",
    "\n",
    "print('MAE:', metrics.mean_absolute_error(y_test, predictions_baye))\n",
    "print('MSE:', metrics.mean_squared_error(y_test, predictions_baye))\n",
    "print('RMSE:', np.sqrt(metrics.mean_squared_error(y_test, predictions_baye)))\n",
    "print('MAPE:', mean_absolute_percentage_error(y_test, predictions_baye))"
   ]
  },
  {
   "cell_type": "markdown",
   "id": "4ebf6735",
   "metadata": {},
   "source": [
    "Las predicciones del modelo final se alejan en promedio 37.9267 unidades del valor real"
   ]
  },
  {
   "cell_type": "markdown",
   "id": "edaf009f",
   "metadata": {},
   "source": [
    "### Modelo Polinomial"
   ]
  },
  {
   "cell_type": "code",
   "execution_count": 91,
   "id": "997710b3",
   "metadata": {},
   "outputs": [
    {
     "data": {
      "text/plain": [
       "LinearRegression()"
      ]
     },
     "execution_count": 91,
     "metadata": {},
     "output_type": "execute_result"
    }
   ],
   "source": [
    "# Fitting Polynomial Regression to the dataset\n",
    "from sklearn.preprocessing import PolynomialFeatures\n",
    "poly_reg = PolynomialFeatures(degree=4)\n",
    "X_train_poly = poly_reg.fit_transform(X_train)\n",
    "X_test_poly = poly_reg.fit_transform(X_test)\n",
    "pol_reg = LinearRegression()\n",
    "pol_reg.fit(X_train_poly, y_train)"
   ]
  },
  {
   "cell_type": "code",
   "execution_count": 92,
   "id": "d694fcb0",
   "metadata": {},
   "outputs": [
    {
     "name": "stdout",
     "output_type": "stream",
     "text": [
      "MAE: 11.155493735657231\n",
      "MSE: 1291.1682990110241\n",
      "RMSE: 35.93283037851352\n",
      "MAPE: 13.454778132153209\n"
     ]
    }
   ],
   "source": [
    "#predicciones\n",
    "predictions_poli = pol_reg.predict(X_test_poly)\n",
    "\n",
    "print('MAE:', metrics.mean_absolute_error(y_test, predictions_poli))\n",
    "print('MSE:', metrics.mean_squared_error(y_test, predictions_poli))\n",
    "print('RMSE:', np.sqrt(metrics.mean_squared_error(y_test, predictions_poli)))\n",
    "print('MAPE:', mean_absolute_percentage_error(y_test, predictions_poli))"
   ]
  },
  {
   "cell_type": "markdown",
   "id": "2af4c21d",
   "metadata": {},
   "source": [
    "Las predicciones del modelo final se alejan en promedio 35.9328 unidades del valor real. Se probó con diferentes degree, pero el mejor metrica presenta es con 4."
   ]
  },
  {
   "cell_type": "markdown",
   "id": "5321364a",
   "metadata": {},
   "source": [
    "### Bosque Aleatorio"
   ]
  },
  {
   "cell_type": "code",
   "execution_count": 93,
   "id": "6ba62ae3",
   "metadata": {},
   "outputs": [],
   "source": [
    "from sklearn.ensemble import RandomForestRegressor\n",
    "RFReg = RandomForestRegressor(random_state = 2022).fit(X_train, y_train)"
   ]
  },
  {
   "cell_type": "code",
   "execution_count": 84,
   "id": "15eadb32",
   "metadata": {},
   "outputs": [
    {
     "name": "stdout",
     "output_type": "stream",
     "text": [
      "MAE: 7.613422844374344\n",
      "MSE: 1275.1941701373773\n",
      "RMSE: 35.70986096496845\n",
      "MAPE: 4.67491432442858\n"
     ]
    }
   ],
   "source": [
    "#predicciones\n",
    "predictions_RFReg = RFReg.predict(X_test)\n",
    "\n",
    "print('MAE:', metrics.mean_absolute_error(y_test, predictions_RFReg))\n",
    "print('MSE:', metrics.mean_squared_error(y_test, predictions_RFReg))\n",
    "print('RMSE:', np.sqrt(metrics.mean_squared_error(y_test, predictions_RFReg)))\n",
    "print('MAPE:', mean_absolute_percentage_error(y_test, predictions_RFReg))"
   ]
  },
  {
   "cell_type": "markdown",
   "id": "bcc099c4",
   "metadata": {},
   "source": [
    "Las predicciones del modelo final se alejan en promedio 35.7099 unidades del valor real"
   ]
  },
  {
   "cell_type": "markdown",
   "id": "4f82f82b",
   "metadata": {},
   "source": [
    "### LightGBM"
   ]
  },
  {
   "cell_type": "code",
   "execution_count": 98,
   "id": "51183631",
   "metadata": {},
   "outputs": [],
   "source": [
    "import lightgbm as lgb\n",
    "from lightgbm import LGBMRegressor \n",
    "LGBMReg = lgb.LGBMRegressor(random_state=2022).fit(X_train,y_train)"
   ]
  },
  {
   "cell_type": "code",
   "execution_count": 100,
   "id": "542a3289",
   "metadata": {},
   "outputs": [
    {
     "name": "stdout",
     "output_type": "stream",
     "text": [
      "MAE: 7.949769004113677\n",
      "MSE: 1271.8549791687185\n",
      "RMSE: 35.66307585120384\n",
      "MAPE: 5.402216093833044\n"
     ]
    }
   ],
   "source": [
    "#predicciones\n",
    "predictions_LGBMReg = LGBMReg.predict(X_test)\n",
    "\n",
    "print('MAE:', metrics.mean_absolute_error(y_test, predictions_LGBMReg))\n",
    "print('MSE:', metrics.mean_squared_error(y_test, predictions_LGBMReg))\n",
    "print('RMSE:', np.sqrt(metrics.mean_squared_error(y_test, predictions_LGBMReg)))\n",
    "print('MAPE:', mean_absolute_percentage_error(y_test, predictions_LGBMReg))"
   ]
  },
  {
   "cell_type": "markdown",
   "id": "8e0b040f",
   "metadata": {},
   "source": [
    "Las predicciones del modelo final se alejan en promedio 35.6631 unidades del valor real"
   ]
  },
  {
   "cell_type": "markdown",
   "id": "377ed393",
   "metadata": {},
   "source": [
    "### El mejor modelo segun la metrica RMSE es LightGBM"
   ]
  }
 ],
 "metadata": {
  "kernelspec": {
   "display_name": "Python 3 (ipykernel)",
   "language": "python",
   "name": "python3"
  },
  "language_info": {
   "codemirror_mode": {
    "name": "ipython",
    "version": 3
   },
   "file_extension": ".py",
   "mimetype": "text/x-python",
   "name": "python",
   "nbconvert_exporter": "python",
   "pygments_lexer": "ipython3",
   "version": "3.8.11"
  }
 },
 "nbformat": 4,
 "nbformat_minor": 5
}
