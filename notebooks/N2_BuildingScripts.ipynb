{
 "cells": [
  {
   "cell_type": "markdown",
   "id": "7d8e74a8-4898-4d89-9f98-1c4358b74df5",
   "metadata": {},
   "source": [
    "# Scripts del Proyecto"
   ]
  },
  {
   "cell_type": "markdown",
   "id": "2f391899-f209-4843-87aa-952f57195a13",
   "metadata": {},
   "source": [
    "### Script 1: Preparacion de datos para el entrenamiento"
   ]
  },
  {
   "cell_type": "code",
   "execution_count": 96,
   "id": "9dcde21d-8230-42cf-adf8-c419c66fff09",
   "metadata": {},
   "outputs": [],
   "source": [
    "import numpy as np\n",
    "import pandas as pd"
   ]
  },
  {
   "cell_type": "code",
   "execution_count": 97,
   "id": "379eb97d-e2f7-491a-b4e3-2318f3f91117",
   "metadata": {},
   "outputs": [],
   "source": [
    "## Leemos la data de entrenamiento\n",
    "dataset = pd.read_csv('../data/raw/Data.csv',sep=',')"
   ]
  },
  {
   "cell_type": "code",
   "execution_count": 98,
   "id": "13ba4901-8d49-4ca3-b440-0497e6343b33",
   "metadata": {},
   "outputs": [],
   "source": [
    "# Convertimos la variale TotalCharges\n",
    "dataset[['TotalCharges']] = dataset[['TotalCharges']].apply(pd.to_numeric, errors='coerce')"
   ]
  },
  {
   "cell_type": "code",
   "execution_count": 99,
   "id": "4c79cb18-3a61-48e0-b7c7-961513dc44a5",
   "metadata": {},
   "outputs": [],
   "source": [
    "from sklearn import preprocessing\n",
    "\n",
    "## selection of category variables\n",
    "target = 'Churn'\n",
    "exclude = ['customerID','Churn']\n",
    "\n",
    "cols = [x for x in dataset.columns if x not in exclude + [target]]\n",
    "cols_cat = dataset[cols].select_dtypes(['object']).columns.tolist()\n",
    "index_categorical=[cols.index(x) for x in cols_cat]\n",
    "\n",
    "## For Training\n",
    "for i in cols_cat:\n",
    "    le = preprocessing.LabelEncoder()\n",
    "    le.fit(list(dataset[i].dropna()))\n",
    "    dataset.loc[~dataset[i].isnull(),i]=le.transform(dataset[i].dropna())"
   ]
  },
  {
   "cell_type": "code",
   "execution_count": 100,
   "id": "34463aaf-fa61-46d6-a61c-66c2d27499be",
   "metadata": {},
   "outputs": [],
   "source": [
    "# Eliminamos los valores faltantes\n",
    "dataset = dataset.dropna(axis = 0)"
   ]
  },
  {
   "cell_type": "code",
   "execution_count": 101,
   "id": "41cae793-02a2-40d4-a887-d5d7bd719669",
   "metadata": {},
   "outputs": [],
   "source": [
    "# Mantener sólo las variables relevantes para el Modelo\n",
    "dfp = dataset\n",
    "dfp.to_csv(\"../data/processed/Data_train.csv\")"
   ]
  },
  {
   "cell_type": "markdown",
   "id": "093e80ae-acb1-4723-9438-e7f3250892aa",
   "metadata": {},
   "source": [
    "### Script 2: Código de Entrenamiento"
   ]
  },
  {
   "cell_type": "code",
   "execution_count": 102,
   "id": "2633bb08-ba72-4517-a600-08cecbc6111b",
   "metadata": {},
   "outputs": [],
   "source": [
    "import pandas as pd\n",
    "from imblearn.over_sampling import RandomOverSampler\n",
    "from sklearn.ensemble import RandomForestClassifier\n",
    "import pickle"
   ]
  },
  {
   "cell_type": "code",
   "execution_count": 103,
   "id": "c1c4a824-c1b6-4c5f-9ae3-38b9eb4dc760",
   "metadata": {},
   "outputs": [],
   "source": [
    "# Cargar la tabla transformada\n",
    "df = pd.read_csv(\"../data/processed/Data_train.csv\")\n",
    "df = df.iloc[:,1:]\n",
    "X_train = df.drop(['Churn','customerID'],axis=1)\n",
    "y_train = df[['Churn']]"
   ]
  },
  {
   "cell_type": "code",
   "execution_count": 104,
   "id": "3af5bd48-8bec-42cc-854e-ea186b6cee53",
   "metadata": {},
   "outputs": [
    {
     "name": "stderr",
     "output_type": "stream",
     "text": [
      "C:\\Users\\joseg\\AppData\\Local\\Temp\\ipykernel_23372\\2886365990.py:9: DataConversionWarning: A column-vector y was passed when a 1d array was expected. Please change the shape of y to (n_samples,), for example using ravel().\n",
      "  rf.fit(x_ros, y_ros) # Entrenando un algoritmo\n"
     ]
    },
    {
     "data": {
      "text/html": [
       "<style>#sk-container-id-3 {color: black;background-color: white;}#sk-container-id-3 pre{padding: 0;}#sk-container-id-3 div.sk-toggleable {background-color: white;}#sk-container-id-3 label.sk-toggleable__label {cursor: pointer;display: block;width: 100%;margin-bottom: 0;padding: 0.3em;box-sizing: border-box;text-align: center;}#sk-container-id-3 label.sk-toggleable__label-arrow:before {content: \"▸\";float: left;margin-right: 0.25em;color: #696969;}#sk-container-id-3 label.sk-toggleable__label-arrow:hover:before {color: black;}#sk-container-id-3 div.sk-estimator:hover label.sk-toggleable__label-arrow:before {color: black;}#sk-container-id-3 div.sk-toggleable__content {max-height: 0;max-width: 0;overflow: hidden;text-align: left;background-color: #f0f8ff;}#sk-container-id-3 div.sk-toggleable__content pre {margin: 0.2em;color: black;border-radius: 0.25em;background-color: #f0f8ff;}#sk-container-id-3 input.sk-toggleable__control:checked~div.sk-toggleable__content {max-height: 200px;max-width: 100%;overflow: auto;}#sk-container-id-3 input.sk-toggleable__control:checked~label.sk-toggleable__label-arrow:before {content: \"▾\";}#sk-container-id-3 div.sk-estimator input.sk-toggleable__control:checked~label.sk-toggleable__label {background-color: #d4ebff;}#sk-container-id-3 div.sk-label input.sk-toggleable__control:checked~label.sk-toggleable__label {background-color: #d4ebff;}#sk-container-id-3 input.sk-hidden--visually {border: 0;clip: rect(1px 1px 1px 1px);clip: rect(1px, 1px, 1px, 1px);height: 1px;margin: -1px;overflow: hidden;padding: 0;position: absolute;width: 1px;}#sk-container-id-3 div.sk-estimator {font-family: monospace;background-color: #f0f8ff;border: 1px dotted black;border-radius: 0.25em;box-sizing: border-box;margin-bottom: 0.5em;}#sk-container-id-3 div.sk-estimator:hover {background-color: #d4ebff;}#sk-container-id-3 div.sk-parallel-item::after {content: \"\";width: 100%;border-bottom: 1px solid gray;flex-grow: 1;}#sk-container-id-3 div.sk-label:hover label.sk-toggleable__label {background-color: #d4ebff;}#sk-container-id-3 div.sk-serial::before {content: \"\";position: absolute;border-left: 1px solid gray;box-sizing: border-box;top: 0;bottom: 0;left: 50%;z-index: 0;}#sk-container-id-3 div.sk-serial {display: flex;flex-direction: column;align-items: center;background-color: white;padding-right: 0.2em;padding-left: 0.2em;position: relative;}#sk-container-id-3 div.sk-item {position: relative;z-index: 1;}#sk-container-id-3 div.sk-parallel {display: flex;align-items: stretch;justify-content: center;background-color: white;position: relative;}#sk-container-id-3 div.sk-item::before, #sk-container-id-3 div.sk-parallel-item::before {content: \"\";position: absolute;border-left: 1px solid gray;box-sizing: border-box;top: 0;bottom: 0;left: 50%;z-index: -1;}#sk-container-id-3 div.sk-parallel-item {display: flex;flex-direction: column;z-index: 1;position: relative;background-color: white;}#sk-container-id-3 div.sk-parallel-item:first-child::after {align-self: flex-end;width: 50%;}#sk-container-id-3 div.sk-parallel-item:last-child::after {align-self: flex-start;width: 50%;}#sk-container-id-3 div.sk-parallel-item:only-child::after {width: 0;}#sk-container-id-3 div.sk-dashed-wrapped {border: 1px dashed gray;margin: 0 0.4em 0.5em 0.4em;box-sizing: border-box;padding-bottom: 0.4em;background-color: white;}#sk-container-id-3 div.sk-label label {font-family: monospace;font-weight: bold;display: inline-block;line-height: 1.2em;}#sk-container-id-3 div.sk-label-container {text-align: center;}#sk-container-id-3 div.sk-container {/* jupyter's `normalize.less` sets `[hidden] { display: none; }` but bootstrap.min.css set `[hidden] { display: none !important; }` so we also need the `!important` here to be able to override the default hidden behavior on the sphinx rendered scikit-learn.org. See: https://github.com/scikit-learn/scikit-learn/issues/21755 */display: inline-block !important;position: relative;}#sk-container-id-3 div.sk-text-repr-fallback {display: none;}</style><div id=\"sk-container-id-3\" class=\"sk-top-container\"><div class=\"sk-text-repr-fallback\"><pre>RandomForestClassifier(random_state=2022)</pre><b>In a Jupyter environment, please rerun this cell to show the HTML representation or trust the notebook. <br />On GitHub, the HTML representation is unable to render, please try loading this page with nbviewer.org.</b></div><div class=\"sk-container\" hidden><div class=\"sk-item\"><div class=\"sk-estimator sk-toggleable\"><input class=\"sk-toggleable__control sk-hidden--visually\" id=\"sk-estimator-id-3\" type=\"checkbox\" checked><label for=\"sk-estimator-id-3\" class=\"sk-toggleable__label sk-toggleable__label-arrow\">RandomForestClassifier</label><div class=\"sk-toggleable__content\"><pre>RandomForestClassifier(random_state=2022)</pre></div></div></div></div></div>"
      ],
      "text/plain": [
       "RandomForestClassifier(random_state=2022)"
      ]
     },
     "execution_count": 104,
     "metadata": {},
     "output_type": "execute_result"
    }
   ],
   "source": [
    "# Entrenamos el modelo con toda la muestra\n",
    "ros = RandomOverSampler(random_state=2022)\n",
    "\n",
    "# fit predictor and target variablex_ros, \n",
    "x_ros, y_ros = ros.fit_resample(X_train, y_train)\n",
    "\n",
    "# Entrenamos el modelo con toda la muestra\n",
    "rf = RandomForestClassifier(random_state=2022)\n",
    "rf.fit(x_ros, y_ros) # Entrenando un algoritmo"
   ]
  },
  {
   "cell_type": "code",
   "execution_count": 105,
   "id": "6106548a-1ce3-4266-9cd7-ddacea05eec1",
   "metadata": {},
   "outputs": [],
   "source": [
    "# Guardamos el modelo entrenado para usarlo en produccion\n",
    "filename = '../models/best_model.pkl'\n",
    "pickle.dump(rf, open(filename, 'wb'))"
   ]
  },
  {
   "cell_type": "markdown",
   "id": "475bb433-6007-48fa-9ec2-8d5a8beffbbc",
   "metadata": {},
   "source": [
    "### Script 3: Preparación de Datos de Validación"
   ]
  },
  {
   "cell_type": "code",
   "execution_count": 106,
   "id": "ad1f70ed-af97-45fc-8365-65736290c0b0",
   "metadata": {},
   "outputs": [],
   "source": [
    "import numpy as np\n",
    "import pandas as pd"
   ]
  },
  {
   "cell_type": "code",
   "execution_count": 107,
   "id": "95c5eab2-344f-49b7-84db-1f2c5ae2a3e4",
   "metadata": {},
   "outputs": [],
   "source": [
    "## Leemos la data de entrenamiento\n",
    "dataset = pd.read_csv('../data/raw/Data_new.csv',sep=',')"
   ]
  },
  {
   "cell_type": "code",
   "execution_count": 108,
   "id": "d3342092-438d-43ac-a248-f724d15d5533",
   "metadata": {},
   "outputs": [],
   "source": [
    "# Convertimos la variale TotalCharges\n",
    "dataset[['TotalCharges']] = dataset[['TotalCharges']].apply(pd.to_numeric, errors='coerce')"
   ]
  },
  {
   "cell_type": "code",
   "execution_count": 109,
   "id": "147b2448-a9da-40e4-b4ee-c497d842b4fd",
   "metadata": {},
   "outputs": [],
   "source": [
    "from sklearn import preprocessing\n",
    "\n",
    "## selection of category variables\n",
    "target = 'Churn'\n",
    "exclude = ['customerID','Churn']\n",
    "\n",
    "cols = [x for x in dataset.columns if x not in exclude + [target]]\n",
    "cols_cat = dataset[cols].select_dtypes(['object']).columns.tolist()\n",
    "index_categorical=[cols.index(x) for x in cols_cat]\n",
    "\n",
    "## For Training\n",
    "for i in cols_cat:\n",
    "    le = preprocessing.LabelEncoder()\n",
    "    le.fit(list(dataset[i].dropna()))\n",
    "    dataset.loc[~dataset[i].isnull(),i]=le.transform(dataset[i].dropna())"
   ]
  },
  {
   "cell_type": "code",
   "execution_count": 110,
   "id": "f3a825cf-d9c9-4ddf-8b5b-a071ab8d7936",
   "metadata": {},
   "outputs": [],
   "source": [
    "# Eliminamos los valores faltantes\n",
    "dataset = dataset.dropna(axis = 0)"
   ]
  },
  {
   "cell_type": "code",
   "execution_count": 111,
   "id": "f98844dd-2c8c-41bd-b2aa-40824fe94406",
   "metadata": {},
   "outputs": [],
   "source": [
    "# Mantener sólo las variables relevantes para el Modelo\n",
    "dfp = dataset\n",
    "dfp.to_csv(\"../data/processed/Data_val.csv\")"
   ]
  },
  {
   "cell_type": "markdown",
   "id": "3842a7d2-a104-4f32-8221-b8b715682b40",
   "metadata": {},
   "source": [
    "### Script 4: Código de Validación"
   ]
  },
  {
   "cell_type": "code",
   "execution_count": 112,
   "id": "7f2be505-a949-4767-ad81-bd6b1eba2c36",
   "metadata": {},
   "outputs": [],
   "source": [
    "import pandas as pd\n",
    "from imblearn.over_sampling import RandomOverSampler\n",
    "from sklearn.ensemble import RandomForestClassifier\n",
    "import pickle\n",
    "import matplotlib.pyplot as plt\n",
    "from sklearn.metrics import *"
   ]
  },
  {
   "cell_type": "code",
   "execution_count": 113,
   "id": "1ad945b4-94b2-40ef-97d1-cf3328732dfa",
   "metadata": {},
   "outputs": [],
   "source": [
    "# Cargar la tabla transformada\n",
    "df = pd.read_csv(\"../data/processed/Data_val.csv\")\n",
    "df = df.iloc[:,1:]\n",
    "X_test = df.drop(['Churn','customerID'],axis=1)\n",
    "y_test = df[['Churn']]"
   ]
  },
  {
   "cell_type": "code",
   "execution_count": 114,
   "id": "8bc46317-d5b3-442a-83ff-b8ec9288de79",
   "metadata": {},
   "outputs": [],
   "source": [
    "# Leemos el modelo entrenado!\n",
    "filename = '../models/best_model.pkl'\n",
    "model = pickle.load(open(filename, 'rb'))"
   ]
  },
  {
   "cell_type": "code",
   "execution_count": 115,
   "id": "4ec73191-c595-419f-b1a7-f57284ce1aa7",
   "metadata": {},
   "outputs": [],
   "source": [
    "# Predecimos sobre el set de datos de implementacion con el modelo entrenado\n",
    "y_pred_test=model.predict(df.drop(['Churn','customerID'],axis=1)) "
   ]
  },
  {
   "cell_type": "code",
   "execution_count": 116,
   "id": "279ed3cf-09ef-4c9e-8af7-68ad6e63857a",
   "metadata": {},
   "outputs": [],
   "source": [
    "## Metricas de validación\n",
    "def calc_metrics(y_test,y_pred_test):\n",
    "    cm_test = confusion_matrix(y_test,y_pred_test)\n",
    "    print(\"Matriz de confusion: \")\n",
    "    print(cm_test)\n",
    "    accuracy_test=accuracy_score(y_test,y_pred_test)\n",
    "    print(\"Accuracy: \", accuracy_test)\n",
    "    precision_test=precision_score(y_test,y_pred_test)\n",
    "    print(\"Precision: \", precision_test)\n",
    "    recall_test=recall_score(y_test,y_pred_test)\n",
    "    print(\"Recall: \", recall_test)"
   ]
  },
  {
   "cell_type": "code",
   "execution_count": 117,
   "id": "794c687a-829a-4b9f-87eb-60829a9125e7",
   "metadata": {},
   "outputs": [],
   "source": [
    "def save_plot(title):\n",
    "    plt.title(title)\n",
    "    fig = plt.gcf()\n",
    "    filename = title.replace(\" \", \"_\").lower()\n",
    "    fig.savefig('{}'.format(filename), dpi=500)\n",
    "    plt.clf()"
   ]
  },
  {
   "cell_type": "code",
   "execution_count": 118,
   "id": "e738f207-ccd3-4a58-b821-ed2547091389",
   "metadata": {},
   "outputs": [
    {
     "name": "stderr",
     "output_type": "stream",
     "text": [
      "C:\\Users\\joseg\\anaconda3\\lib\\site-packages\\sklearn\\utils\\deprecation.py:87: FutureWarning: Function plot_confusion_matrix is deprecated; Function `plot_confusion_matrix` is deprecated in 1.0 and will be removed in 1.2. Use one of the class methods: ConfusionMatrixDisplay.from_predictions or ConfusionMatrixDisplay.from_estimator.\n",
      "  warnings.warn(msg, category=FutureWarning)\n"
     ]
    },
    {
     "data": {
      "text/plain": [
       "<Figure size 432x288 with 0 Axes>"
      ]
     },
     "metadata": {},
     "output_type": "display_data"
    }
   ],
   "source": [
    "plot_confusion_matrix(model, X_test, y_test)\n",
    "save_plot('Confusion Matrix')"
   ]
  },
  {
   "cell_type": "code",
   "execution_count": 119,
   "id": "dc8e9c78-3e23-4e3f-bebb-6ab588329860",
   "metadata": {},
   "outputs": [
    {
     "name": "stderr",
     "output_type": "stream",
     "text": [
      "C:\\Users\\joseg\\anaconda3\\lib\\site-packages\\sklearn\\utils\\deprecation.py:87: FutureWarning: Function plot_roc_curve is deprecated; Function :func:`plot_roc_curve` is deprecated in 1.0 and will be removed in 1.2. Use one of the class methods: :meth:`sklearn.metric.RocCurveDisplay.from_predictions` or :meth:`sklearn.metric.RocCurveDisplay.from_estimator`.\n",
      "  warnings.warn(msg, category=FutureWarning)\n"
     ]
    },
    {
     "data": {
      "text/plain": [
       "<Figure size 432x288 with 0 Axes>"
      ]
     },
     "metadata": {},
     "output_type": "display_data"
    }
   ],
   "source": [
    "plot_roc_curve(model, X_test, y_test)\n",
    "save_plot('ROC Curve')"
   ]
  },
  {
   "cell_type": "markdown",
   "id": "740cb919-7f9b-4993-bcc1-403ad6c2afbf",
   "metadata": {},
   "source": [
    "### Script 5: Preparación de Datos de Score (Automatización)"
   ]
  },
  {
   "cell_type": "code",
   "execution_count": 120,
   "id": "a6d0af0c-02da-48c2-a8ef-f5e039399e46",
   "metadata": {},
   "outputs": [],
   "source": [
    "import numpy as np\n",
    "import pandas as pd"
   ]
  },
  {
   "cell_type": "code",
   "execution_count": 121,
   "id": "a8bf8794-60c1-4354-ad4d-7c1b4d71130f",
   "metadata": {},
   "outputs": [],
   "source": [
    "## Leemos la data de entrenamiento\n",
    "dataset = pd.read_csv('../data/raw/Data_score.csv',sep=',')"
   ]
  },
  {
   "cell_type": "code",
   "execution_count": 122,
   "id": "c334dc12-3416-4378-9ca7-94fdac4219ad",
   "metadata": {},
   "outputs": [],
   "source": [
    "# Convertimos la variale TotalCharges\n",
    "dataset[['TotalCharges']] = dataset[['TotalCharges']].apply(pd.to_numeric, errors='coerce')"
   ]
  },
  {
   "cell_type": "code",
   "execution_count": 123,
   "id": "4c8e2713-64bd-4786-a9f8-2b81f9eeb680",
   "metadata": {},
   "outputs": [],
   "source": [
    "from sklearn import preprocessing\n",
    "\n",
    "## selection of category variables\n",
    "target = 'Churn'\n",
    "exclude = ['customerID','Churn']\n",
    "\n",
    "cols = [x for x in dataset.columns if x not in exclude + [target]]\n",
    "cols_cat = dataset[cols].select_dtypes(['object']).columns.tolist()\n",
    "index_categorical=[cols.index(x) for x in cols_cat]\n",
    "\n",
    "## For Training\n",
    "for i in cols_cat:\n",
    "    le = preprocessing.LabelEncoder()\n",
    "    le.fit(list(dataset[i].dropna()))\n",
    "    dataset.loc[~dataset[i].isnull(),i]=le.transform(dataset[i].dropna())"
   ]
  },
  {
   "cell_type": "code",
   "execution_count": 124,
   "id": "2cabde3f-954a-416b-b0d5-12280f7ce43a",
   "metadata": {},
   "outputs": [],
   "source": [
    "# Eliminamos los valores faltantes\n",
    "dataset = dataset.dropna(axis = 0)"
   ]
  },
  {
   "cell_type": "code",
   "execution_count": 125,
   "id": "f37010d8-3971-49d5-8472-ebf96f74ec01",
   "metadata": {},
   "outputs": [],
   "source": [
    "# Mantener sólo las variables relevantes para el Modelo\n",
    "dfp = dataset.drop(['Churn','customerID'],axis=1)\n",
    "dfp.to_csv(\"../data/processed/Data_score.csv\")"
   ]
  },
  {
   "cell_type": "markdown",
   "id": "46842745-212b-4add-b536-d586a863fd36",
   "metadata": {},
   "source": [
    "### Scipt 6: Código de Scoring (Automatización)"
   ]
  },
  {
   "cell_type": "code",
   "execution_count": 126,
   "id": "9260a9a9-a713-4a84-8794-2868a5c06d8f",
   "metadata": {},
   "outputs": [],
   "source": [
    "import numpy as np\n",
    "import pandas as pd\n",
    "from imblearn.over_sampling import RandomOverSampler\n",
    "from sklearn.ensemble import RandomForestClassifier\n",
    "import pickle"
   ]
  },
  {
   "cell_type": "code",
   "execution_count": 127,
   "id": "c03bc08f-30bb-4c8f-bdbc-2a795a5bbaf4",
   "metadata": {},
   "outputs": [],
   "source": [
    "# Cargar la tabla transformada\n",
    "df = pd.read_csv(\"../data/processed/Data_score.csv\")\n",
    "df = df.iloc[:,1:]"
   ]
  },
  {
   "cell_type": "code",
   "execution_count": 128,
   "id": "322ce3f2-fc6c-4467-934d-fff4f13b9e90",
   "metadata": {},
   "outputs": [],
   "source": [
    "# Leemos el modelo entrenado!\n",
    "filename = '../models/best_model.pkl'\n",
    "model = pickle.load(open(filename, 'rb'))"
   ]
  },
  {
   "cell_type": "code",
   "execution_count": 129,
   "id": "8e4749f3-9f2f-483b-afd7-62db491a261b",
   "metadata": {},
   "outputs": [],
   "source": [
    "# Predecimos sobre el set de datos de implementacion con el modelo entrenado\n",
    "scores=model.predict(df).reshape(-1,1)"
   ]
  },
  {
   "cell_type": "code",
   "execution_count": 130,
   "id": "d98a501b-4d98-430f-a2c6-4d5da025a73b",
   "metadata": {},
   "outputs": [],
   "source": [
    "# Exportamos el resultado del modelo para cargarlo en el Feature Store o Data Mart de Modelos\n",
    "# Le asignamos nombres a las columnas\n",
    "df_score = pd.DataFrame(scores, columns=['PREDICT'])\n",
    "# Exportamos la solucion\n",
    "df_score.to_csv('../data/scores/final_score.csv')"
   ]
  },
  {
   "cell_type": "code",
   "execution_count": null,
   "id": "1a1d9554-8868-4ca3-8ceb-e1731fc2d3d8",
   "metadata": {},
   "outputs": [],
   "source": []
  }
 ],
 "metadata": {
  "kernelspec": {
   "display_name": "Python 3 (ipykernel)",
   "language": "python",
   "name": "python3"
  },
  "language_info": {
   "codemirror_mode": {
    "name": "ipython",
    "version": 3
   },
   "file_extension": ".py",
   "mimetype": "text/x-python",
   "name": "python",
   "nbconvert_exporter": "python",
   "pygments_lexer": "ipython3",
   "version": "3.9.12"
  },
  "toc-autonumbering": true,
  "toc-showcode": true
 },
 "nbformat": 4,
 "nbformat_minor": 5
}
